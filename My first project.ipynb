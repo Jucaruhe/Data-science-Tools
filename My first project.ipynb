{
 "cells": [
  {
   "cell_type": "markdown",
   "id": "129fdf77",
   "metadata": {},
   "source": [
    "# Data science tools\n"
   ]
  },
  {
   "attachments": {},
   "cell_type": "markdown",
   "id": "436ed24d",
   "metadata": {},
   "source": [
    "## *Introduction*\n",
    "\n",
    "In the following I intend to resolve the points I am set to make for the completion of week 6 of the IBM \"Tools for Data science\" course."
   ]
  },
  {
   "cell_type": "markdown",
   "id": "a05be194",
   "metadata": {},
   "source": [
    "## *Data science languages:*\n",
    "\n"
   ]
  },
  {
   "cell_type": "markdown",
   "id": "485218ff",
   "metadata": {},
   "source": [
    "* SAS\n",
    "* R\n",
    "* Python\n",
    "* Scala\n",
    "* Julia"
   ]
  },
  {
   "cell_type": "markdown",
   "id": "c2205902",
   "metadata": {},
   "source": [
    "## *Data science Libraries*\n",
    "\n",
    "* Numpy\n",
    "* Pandas\n",
    "* seaborn\n",
    "* tensorflow\n",
    "* Keras"
   ]
  },
  {
   "cell_type": "markdown",
   "id": "b19b2d16",
   "metadata": {},
   "source": [
    "## *Data Science Tools* "
   ]
  },
  {
   "cell_type": "markdown",
   "id": "3923f55a",
   "metadata": {},
   "source": [
    "| *Tool* | *Description* |\n",
    "| -------------| ------ |\n",
    "| Jupyter Notebook | An interactiva conding environment |\n",
    "| Anaconda | A package management system for Python |\n",
    "| Git | A version control system |"
   ]
  },
  {
   "cell_type": "markdown",
   "id": "5cb4e8ca",
   "metadata": {},
   "source": [
    "### *Arithmetic Expressions*\n"
   ]
  },
  {
   "cell_type": "code",
   "execution_count": 11,
   "id": "1d38520a",
   "metadata": {},
   "outputs": [
    {
     "name": "stdout",
     "output_type": "stream",
     "text": [
      "The distance between the two points is:  5.0\n"
     ]
    }
   ],
   "source": [
    "import math\n",
    "\n",
    "# Points\n",
    "x1, y1 = 1, 2\n",
    "x2, y2 = 4, 6\n",
    "\n",
    "# Dis\n",
    "dist = math.sqrt((x2 - x1)**2 + (y2 - y1)**2)\n",
    "\n",
    "print(\"The distance between the two points is: \", dist)"
   ]
  },
  {
   "cell_type": "markdown",
   "id": "9e4187d3",
   "metadata": {},
   "source": [
    "## multiply and add numbers"
   ]
  },
  {
   "cell_type": "code",
   "execution_count": 14,
   "id": "dfc8b01b",
   "metadata": {},
   "outputs": [
    {
     "data": {
      "text/plain": [
       "15"
      ]
     },
     "execution_count": 14,
     "metadata": {},
     "output_type": "execute_result"
    }
   ],
   "source": [
    "# Addition operation\n",
    "6+9\n"
   ]
  },
  {
   "cell_type": "code",
   "execution_count": 13,
   "id": "175b238e",
   "metadata": {},
   "outputs": [
    {
     "data": {
      "text/plain": [
       "13537678924.65"
      ]
     },
     "execution_count": 13,
     "metadata": {},
     "output_type": "execute_result"
    }
   ],
   "source": [
    "# Multiplication operation\n",
    "421321.1*32131.5"
   ]
  },
  {
   "cell_type": "markdown",
   "id": "5b8152d3",
   "metadata": {},
   "source": [
    "### Converting Minutes to hours"
   ]
  },
  {
   "cell_type": "code",
   "execution_count": 18,
   "id": "7373dad9",
   "metadata": {},
   "outputs": [
    {
     "name": "stdout",
     "output_type": "stream",
     "text": [
      "6.0\n"
     ]
    }
   ],
   "source": [
    "minutes = 360\n",
    "hours = minutes / 60\n",
    "print(hours)"
   ]
  },
  {
   "cell_type": "markdown",
   "id": "04683da9",
   "metadata": {},
   "source": [
    "## Objectives\n",
    "* Explore popular data science languages, libraries, and tools.\n",
    "* Provide examples of arithmetic expressions and others operations using Python."
   ]
  },
  {
   "cell_type": "markdown",
   "id": "683ceafb",
   "metadata": {},
   "source": [
    "\n",
    "## Juan camilo ruiz herrera"
   ]
  }
 ],
 "metadata": {
  "kernelspec": {
   "display_name": "Python 3 (ipykernel)",
   "language": "python",
   "name": "python3"
  },
  "language_info": {
   "codemirror_mode": {
    "name": "ipython",
    "version": 3
   },
   "file_extension": ".py",
   "mimetype": "text/x-python",
   "name": "python",
   "nbconvert_exporter": "python",
   "pygments_lexer": "ipython3",
   "version": "3.10.9"
  }
 },
 "nbformat": 4,
 "nbformat_minor": 5
}
